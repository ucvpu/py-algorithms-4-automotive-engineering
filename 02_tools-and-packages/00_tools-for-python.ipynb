{
 "cells": [
  {
   "cell_type": "markdown",
   "metadata": {
    "slideshow": {
     "slide_type": "slide"
    }
   },
   "source": [
    "<img src=\"../_static/objects.jpg\" alt=\"Objects\" width=\"350\" align=\"right\">\n",
    "\n",
    "[Table of contents](../toc.ipynb)\n",
    "\n",
    "# Tools for Python developers\n",
    "\n",
    "* Upon now, you used either python through terminal or some cloud service like [Python anywhere](https://www.pythonanywhere.com/try-ipython/), or the respective jupyter notebooks for this class on [Binder](https://mybinder.org/v2/gh/StephanRhode/py-algorithms-4-automotive-engineering/master).\n",
    "* This chapter introduces an integrated development environment (Pycharm) and local interactive notebooks (Jupyter)."
   ]
  },
  {
   "cell_type": "markdown",
   "metadata": {
    "slideshow": {
     "slide_type": "slide"
    }
   },
   "source": [
    "## Pycharm\n",
    "\n",
    "<img src=\"https://raw.githubusercontent.com/gilbarbara/logos/master/logos/pycharm.svg?sanitize=true\" alt=\"Octocat\" width=\"150\">\n",
    "\n",
    "* Pycharm is one possible integrated development environment (IDE) for Python. \n",
    "* An IDE is basically a program which supports all steps of software development like\n",
    "  * Coding with code completion, static code analyses, templates,...\n",
    "  * Testing\n",
    "  * Debugging\n",
    "  * Version control\n",
    "  * Environment and package management\n",
    "  * Code refactoring\n",
    "  * Build chains,...\n",
    "  * Please find [here all features](https://www.jetbrains.com/pycharm/features/)"
   ]
  },
  {
   "cell_type": "markdown",
   "metadata": {
    "slideshow": {
     "slide_type": "subslide"
    }
   },
   "source": [
    "* Other popular choices next to Pycharm are [Visual Studio Code](https://code.visualstudio.com/), and [Spyder](https://www.spyder-ide.org/). Just try which one is best for you.\n",
    "* There is a free community edition of Pycharm [link to installer](https://www.jetbrains.com/pycharm/download).\n",
    "* And as Pycharm is a professional software, there is much [video recorded training material](https://www.jetbrains.com/pycharm/learning-center/)."
   ]
  },
  {
   "cell_type": "markdown",
   "metadata": {
    "slideshow": {
     "slide_type": "subslide"
    }
   },
   "source": [
    "### Pycharm introduction video\n",
    "\n",
    "Please find here a [video which presents Pycharm features](https://www.youtube.com/watch?v=BPC-bGdBSM8)."
   ]
  },
  {
   "cell_type": "markdown",
   "metadata": {
    "slideshow": {
     "slide_type": "subslide"
    }
   },
   "source": [
    "### A small Pycharm live demo\n",
    "\n",
    "<img src=\"pycharm.png\" alt=\"Pycharm\" width=\"800\">"
   ]
  },
  {
   "cell_type": "markdown",
   "metadata": {
    "slideshow": {
     "slide_type": "subslide"
    }
   },
   "source": [
    "## Exercise: First steps in Pycharm (15 minutes)\n",
    "\n",
    "<img src=\"../_static/exercise.png\" alt=\"Exercise\" width=\"75\" align=\"left\">\n",
    "\n",
    "Please complete the following tasks:\n",
    "* Install Pycharm from [https://www.jetbrains.com/pycharm/download](https://www.jetbrains.com/pycharm/download)\n",
    "* Create a new project\n",
    "* Create an environment (pip, conda)\n",
    "* Add this Python code as file\n",
    "  ```\n",
    "  def my_hello():\n",
    "      print(\"Hello world\")\n",
    "  \n",
    "  ```\n",
    "* Execute this file in Pycharm"
   ]
  },
  {
   "cell_type": "markdown",
   "metadata": {
    "slideshow": {
     "slide_type": "slide"
    }
   },
   "source": [
    "## Jupyter\n",
    "\n",
    "<img src=\"https://raw.githubusercontent.com/gilbarbara/logos/master/logos/jupyter.svg?sanitize=true\" alt=\"Octocat\" width=\"150\">\n",
    "\n",
    "* Jupyter is an interactive programming environment, where you can combine programming, presentation of results, and explanation with text and equations in one web page.\n",
    "* Hence Jupyter is a way to communicate scientific computing like it is done since ages. Leonardo da Vinci used Notebooks as well!\n",
    "* Jupyter works with Python kernel, as well as with Julia, R, Rubi, Matlab.\n",
    "* Relatively recent, [Jupyter Lab](https://jupyterlab.readthedocs.io/en/stable/) was released, which is the successor of Jupyter.\n",
    "* Note the entire course material is written in Jupyter. It is very convenient :)"
   ]
  },
  {
   "cell_type": "markdown",
   "metadata": {
    "slideshow": {
     "slide_type": "subslide"
    }
   },
   "source": [
    "### Jupyter installation\n",
    "\n",
    "* Jupyter is a package. Hence, just type `conda install jupyter` to extend your environment.\n",
    "* You can also try Jupyter in the cloud here [https://jupyter.org/try](https://jupyter.org/try).\n",
    "* The command to start the Jupyter notebook server is `jupyter notebook`.\n",
    "\n",
    "<img src=\"jupyter.png\" alt=\"Jupyter\" width=\"800\">"
   ]
  },
  {
   "cell_type": "markdown",
   "metadata": {
    "slideshow": {
     "slide_type": "subslide"
    }
   },
   "source": [
    "### Some Jupyter commands\n",
    "\n",
    "* There is edit mode and navigation mode. You can switch between them with `enter` and `esc`.\n",
    "* `shift + enter` runs a cell and selects the next cell below.\n",
    "* If you use functions, you can use auto completion with `tab` or read the doc string with `shift + tab`.\n",
    "* Many more keyboard shortcuts are on top of Jupyter panel in the keyboard icon.\n",
    "* Add to this, there are some so called magic commands, which start with `%`. Quite common is for instance `%matplotlib notebook`, which embeds plots."
   ]
  },
  {
   "cell_type": "markdown",
   "metadata": {
    "slideshow": {
     "slide_type": "subslide"
    }
   },
   "source": [
    "### Jupyter tutorial\n",
    "\n",
    "* There are tons of Jupyter tutorials in the web. Just google for it and try some. One compact and precise tutorial is on tutorialspoint for instance.\n",
    "\n",
    "* https://www.tutorialspoint.com/jupyter/index.htm"
   ]
  },
  {
   "cell_type": "markdown",
   "metadata": {
    "slideshow": {
     "slide_type": "subslide"
    }
   },
   "source": [
    "## Exercise:  Jupyter (10 minutes)\n",
    "\n",
    "<img src=\"../_static/exercise.png\" alt=\"Exercise\" width=\"75\" align=\"left\">\n",
    "\n",
    "\n",
    "Here the task:\n",
    "\n",
    "* Activate your local Python environment and install jupyter with `conda install jupyter`.\n",
    "* Open the notebook server with `jupyter notebook` command.\n",
    "* Create a new notebook and try some Python code there.\n",
    "* Add text in markdown cells."
   ]
  },
  {
   "cell_type": "markdown",
   "metadata": {
    "slideshow": {
     "slide_type": "subslide"
    }
   },
   "source": [
    "## Jupyter extensions\n",
    "\n",
    "There are many extensions for Jupyter notebooks like \n",
    "* table of contents bar,\n",
    "* variable inspector,\n",
    "* spell checkers,\n",
    "* auto code style checks,...\n",
    "available in [jupyter-contrib-nbextensions](https://jupyter-contrib-nbextensions.readthedocs.io/en/latest/index.html).\n",
    "\n",
    "With these extensions, Jupyter becomes a very powerful interactive development environment."
   ]
  },
  {
   "cell_type": "markdown",
   "metadata": {
    "slideshow": {
     "slide_type": "subslide"
    }
   },
   "source": [
    "Please find here a screen shot of Jupyter with table of contents and variable inspector extension.\n",
    "\n",
    "<img src=\"jupyter_nb_extensions.png\" alt=\"Jupyter extended\" width=\"800\">"
   ]
  },
  {
   "cell_type": "code",
   "execution_count": null,
   "metadata": {
    "vscode": {
     "languageId": "plaintext"
    }
   },
   "outputs": [],
   "source": []
  }
 ],
 "metadata": {
  "celltoolbar": "Slideshow",
  "kernelspec": {
   "display_name": "Python 3",
   "language": "python",
   "name": "python3"
  },
  "language_info": {
   "codemirror_mode": {
    "name": "ipython",
    "version": 3
   },
   "file_extension": ".py",
   "mimetype": "text/x-python",
   "name": "python",
   "nbconvert_exporter": "python",
   "pygments_lexer": "ipython3",
   "version": "3.7.7"
  },
  "toc": {
   "base_numbering": 1,
   "nav_menu": {},
   "number_sections": true,
   "sideBar": true,
   "skip_h1_title": false,
   "title_cell": "Table of Contents",
   "title_sidebar": "Contents",
   "toc_cell": false,
   "toc_position": {},
   "toc_section_display": true,
   "toc_window_display": true
  },
  "varInspector": {
   "cols": {
    "lenName": 16,
    "lenType": 16,
    "lenVar": 40
   },
   "kernels_config": {
    "python": {
     "delete_cmd_postfix": "",
     "delete_cmd_prefix": "del ",
     "library": "var_list.py",
     "varRefreshCmd": "print(var_dic_list())"
    },
    "r": {
     "delete_cmd_postfix": ") ",
     "delete_cmd_prefix": "rm(",
     "library": "var_list.r",
     "varRefreshCmd": "cat(var_dic_list()) "
    }
   },
   "types_to_exclude": [
    "module",
    "function",
    "builtin_function_or_method",
    "instance",
    "_Feature"
   ],
   "window_display": false
  }
 },
 "nbformat": 4,
 "nbformat_minor": 2
}
