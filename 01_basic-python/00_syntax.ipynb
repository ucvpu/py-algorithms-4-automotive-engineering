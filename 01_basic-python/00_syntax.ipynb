{
 "cells": [
  {
   "cell_type": "markdown",
   "metadata": {
    "slideshow": {
     "slide_type": "slide"
    }
   },
   "source": [
    "[Table of contents](../toc.ipynb)\n",
    "\n",
    "# Yet another Python course?\n",
    "\n",
    "As said, Python is so popular that there are plenty of online courses, tutorials and books available. Please find here a short list of free and great Python learning sources\n",
    "\n",
    "* A free online tutorial for Python beginners on [tutorialspoint.com](https://www.tutorialspoint.com/python/index.htm)\n",
    "* Book: [A Whirlwind Tour of Python](https://jakevdp.github.io/WhirlwindTourOfPython/) [[VanderPlas2016]](../references.bib)\n",
    "* IPython cloud service [Python anywhere](https://www.pythonanywhere.com/try-ipython/)\n",
    "* Interactive set of Python tutorials on [learnpython.org](https://www.learnpython.org/)\n",
    "* Python data science cheat sheets on [datacamp.com](https://www.datacamp.com/community/data-science-cheatsheets) [[PyCheatSheats]](../references.bib)\n",
    "* Official Python Documentation on [docs.python.org](https://docs.python.org/3/tutorial/index.html)\n",
    "\n",
    "There is much more!\n",
    "\n",
    "There is also a bunch of commercial tutorials available to learn Python, e.g. on \n",
    "* [Datacamp.org](https://www.datacamp.com/courses/intro-to-python-for-data-science)\n",
    "* [Udacity.com](https://www.udacity.com/course/introduction-to-python--ud1110)\n",
    "* [Cousera.org](https://www.coursera.org/learn/python)\n",
    "* ...\n",
    "\n",
    "and some of these Python introduction courses are free as well.\n",
    "\n",
    "The following sections on Python syntax and semantics are partly adapted from *A Whirlwind Tour of Python* [[VanderPlas2016]](../references.bib), which is under CC0 license."
   ]
  },
  {
   "cell_type": "markdown",
   "metadata": {
    "slideshow": {
     "slide_type": "slide"
    }
   },
   "source": [
    "# Python syntax and semantics reference\n",
    "\n",
    "Please find overall syntax and semantics reference in [The Python Language Reference](https://docs.python.org/3/reference/index.html) [[PyReference]](../references.bib), and all functionality of Python in the [The Python Standard Library reference](https://docs.python.org/3/library/index.html#library-index) [[PyStandardLib]](../references.bib).\n",
    "\n",
    "However, we will briefly review the syntax herein to get you started.\n",
    "\n",
    "The syntax is the structure of a language, or how to write it. The semantics is the meaning of the language or how it is interpreted."
   ]
  },
  {
   "cell_type": "markdown",
   "metadata": {
    "slideshow": {
     "slide_type": "slide"
    }
   },
   "source": [
    "# Python syntax\n",
    "\n",
    "Python was designed for high readability. Hence, parenthesis, semicolons and the like are rarely used and keywords are preferably easy to read English words. Therefore, Python code looks often like pseudo code.\n",
    "\n",
    "## Keywords\n",
    "\n",
    "Python has reserved words which cannot be used as variable or identifier names (names of functions or classes).\n",
    "\n",
    "`and as assert async await break class continue def del elif else except False finally for from global if import in is lambda None nonlocal not or pass raise return True try while with yield`"
   ]
  },
  {
   "cell_type": "markdown",
   "metadata": {
    "slideshow": {
     "slide_type": "subslide"
    }
   },
   "source": [
    "## Easy to read\n",
    "\n",
    "Let us compare an example of a for loop in C and Python.\n",
    "\n",
    "```C\n",
    "/* for loop execution in C*/\n",
    "for( a = 10; a < 20; a = a + 1 ){\n",
    "   printf(\"value of a: %d\\n\", a);\n",
    "}\n",
    "```\n",
    "\n",
    "```python\n",
    "# same for loop in Python\n",
    "for a in range(10, 20):\n",
    "    print(\"value of a\", a)\n",
    "```\n",
    "\n",
    "* Both code blocks use indentation to make the code easy to read. However, in C, the indentation is good programming style and not required by the compiler. In C, the code block is encapsulated with curly braces `{}`. In contrast, Python requires that code blocks are indented.\n",
    "* Python simply uses end of line (carriage return). C requires a semicolon.\n",
    "* Python uses fewer special symbols (braces, semicolons,...).\n",
    "* The `a in range(10, 20)` is better human readable or pseudo code style than `( a = 10; a < 20; a = a + 1 )`."
   ]
  },
  {
   "cell_type": "code",
   "execution_count": 65,
   "metadata": {
    "slideshow": {
     "slide_type": "subslide"
    }
   },
   "outputs": [
    {
     "name": "stdout",
     "output_type": "stream",
     "text": [
      "value of a: 10\n",
      "value of a: 11\n",
      "value of a: 12\n",
      "value of a: 13\n",
      "value of a: 14\n",
      "value of a: 15\n",
      "value of a: 16\n",
      "value of a: 17\n",
      "value of a: 18\n",
      "value of a: 19\n"
     ]
    }
   ],
   "source": [
    "# Now, lets run the Python loop\n",
    "for a in range(10, 20):\n",
    "    print(\"value of a:\", a)"
   ]
  },
  {
   "cell_type": "markdown",
   "metadata": {
    "slideshow": {
     "slide_type": "subslide"
    }
   },
   "source": [
    "## Indentation\n",
    "\n",
    "Hence, indentation matters! Code blocks are usually started with colon `:` and indented by (commonly) four spaces. However, you are free to use any consistent indentation.\n",
    "\n",
    "The two versions of the for loop produce different results because of indentation. The second `print(y)` is not indented and hence called after the loop."
   ]
  },
  {
   "cell_type": "code",
   "execution_count": 66,
   "metadata": {
    "slideshow": {
     "slide_type": "fragment"
    }
   },
   "outputs": [
    {
     "name": "stdout",
     "output_type": "stream",
     "text": [
      "0\n",
      "1\n",
      "3\n"
     ]
    }
   ],
   "source": [
    "y = 0\n",
    "for i in range(0, 3):\n",
    "    y += i\n",
    "    print(y)"
   ]
  },
  {
   "cell_type": "code",
   "execution_count": 67,
   "metadata": {
    "slideshow": {
     "slide_type": "fragment"
    }
   },
   "outputs": [
    {
     "name": "stdout",
     "output_type": "stream",
     "text": [
      "3\n"
     ]
    }
   ],
   "source": [
    "y = 0\n",
    "for i in range(0, 3):\n",
    "    y += i\n",
    "print(y)"
   ]
  },
  {
   "cell_type": "markdown",
   "metadata": {
    "slideshow": {
     "slide_type": "subslide"
    }
   },
   "source": [
    "## Comments\n",
    "\n",
    "In-line comments are marked with a hash `#`. Multi-line comments are not supported by Python but you can use triple quoted strings instead `\"\"\"`, or `'''`"
   ]
  },
  {
   "cell_type": "code",
   "execution_count": 68,
   "metadata": {
    "slideshow": {
     "slide_type": "fragment"
    }
   },
   "outputs": [],
   "source": [
    "\"\"\" Here a comment\n",
    "with line break.\"\"\"\n",
    "\n",
    "''' Here another comment \n",
    "over two lines.'''\n",
    "\n",
    "some_var = 1\n",
    "# and here a comment in one line\n",
    "some_other_var = 2  # and here another comment"
   ]
  },
  {
   "cell_type": "markdown",
   "metadata": {
    "slideshow": {
     "slide_type": "subslide"
    }
   },
   "source": [
    "## Line continuation\n",
    "\n",
    "If your code is too long, put a `\\` as line wrap. Or encapsulate it in braces with indentation."
   ]
  },
  {
   "cell_type": "code",
   "execution_count": 69,
   "metadata": {
    "slideshow": {
     "slide_type": "fragment"
    }
   },
   "outputs": [],
   "source": [
    "# Here some long equation\n",
    "complex = 1 + 4 - 8 +\\\n",
    "    2 - 7"
   ]
  },
  {
   "cell_type": "code",
   "execution_count": 70,
   "metadata": {
    "slideshow": {
     "slide_type": "fragment"
    }
   },
   "outputs": [],
   "source": [
    "# Or the alternative version with braces\n",
    "complex = (1 + 4 - 8 +\n",
    "           2 - 7)"
   ]
  },
  {
   "cell_type": "markdown",
   "metadata": {
    "slideshow": {
     "slide_type": "subslide"
    }
   },
   "source": [
    "## Multiple statements\n",
    "\n",
    "You can either enter one statement after the other or use a semicolon to add them in one line.\n",
    "However, multiple statements in one line are discouraged by Python style guides."
   ]
  },
  {
   "cell_type": "code",
   "execution_count": 71,
   "metadata": {
    "slideshow": {
     "slide_type": "fragment"
    }
   },
   "outputs": [],
   "source": [
    "a = [1, 2, 3]; b = \"my string\"\n",
    "\n",
    "# is the same as\n",
    "a = [1, 2, 3]\n",
    "b = \"my string\""
   ]
  },
  {
   "cell_type": "markdown",
   "metadata": {
    "slideshow": {
     "slide_type": "subslide"
    }
   },
   "source": [
    "## Whitespace\n",
    "\n",
    "As said, whitespace is used for indentation. Within lines, whitespace does not make a difference."
   ]
  },
  {
   "cell_type": "code",
   "execution_count": 2,
   "metadata": {
    "slideshow": {
     "slide_type": "fragment"
    }
   },
   "outputs": [
    {
     "name": "stdout",
     "output_type": "stream",
     "text": [
      "4\n"
     ]
    }
   ],
   "source": [
    "my_var = 1 + 3\n",
    "# this is interpreted in the same way\n",
    "my_var = 1      + 3\n",
    "\n",
    "print(my_var)"
   ]
  },
  {
   "cell_type": "markdown",
   "metadata": {
    "slideshow": {
     "slide_type": "subslide"
    }
   },
   "source": [
    "## Exercise: Try syntax  (10 minutes)\n",
    "\n",
    "<img src=\"../_static/exercise.png\" alt=\"Exercise\" width=\"75\" align=\"left\">\n",
    "\n",
    "Please try out what you have seen by yourself. \n",
    "\n",
    "To solve this task you have (at least) three options to run you code: \n",
    "\n",
    "* Write a Python file and call it through ipython with `%run yourfile.py`.\n",
    "* Use the interactive Jupyter Notebooks of this course on [Binder](https://mybinder.org/v2/gh/StephanRhode/py-algorithms-4-automotive-engineering/master).\n",
    "* Use IPython cloud service [Python anywhere](https://www.pythonanywhere.com/try-ipython/) Note that you need the magic command `%cpaste` to be able to type multiple lines in IPython.\n",
    "\n",
    "Here the task:\n",
    "\n",
    "* Write a for loop which adds the loop index to a defined constant.\n",
    "* Try to include one line comments and multi line comments.\n",
    "* Use `\\` or `()` for line continuation.\n",
    "* Play with indentation (also try to add wrong indentation) and whitespace. \n",
    "* Add the print command."
   ]
  },
  {
   "cell_type": "code",
   "execution_count": 2,
   "metadata": {},
   "outputs": [
    {
     "name": "stdout",
     "output_type": "stream",
     "text": [
      "6\n"
     ]
    }
   ],
   "source": [
    "const_def = 0 # that is the defined constand\n",
    "for i in range (0, 4):\n",
    "    const_def = const_def + i\n",
    "\n",
    "print(const_def)"
   ]
  },
  {
   "cell_type": "markdown",
   "metadata": {
    "slideshow": {
     "slide_type": "subslide"
    }
   },
   "source": [
    "## Solution\n",
    "\n",
    "Please find one possible solution in [`solution_syntax.py`](solution_syntax.py) file."
   ]
  },
  {
   "cell_type": "code",
   "execution_count": 3,
   "metadata": {
    "slideshow": {
     "slide_type": "fragment"
    }
   },
   "outputs": [
    {
     "name": "stdout",
     "output_type": "stream",
     "text": [
      "My loop variable  3\n",
      "My loop variable  4\n",
      "My loop variable  5\n",
      "My loop variable  6\n",
      "My loop variable  7\n",
      "My loop variable  8\n",
      "My loop variable  9\n",
      "My loop variable  10\n",
      "My loop variable  11\n"
     ]
    }
   ],
   "source": [
    "%run solution_syntax.py"
   ]
  }
 ],
 "metadata": {
  "celltoolbar": "Slideshow",
  "kernelspec": {
   "display_name": ".venv",
   "language": "python",
   "name": "python3"
  },
  "language_info": {
   "codemirror_mode": {
    "name": "ipython",
    "version": 3
   },
   "file_extension": ".py",
   "mimetype": "text/x-python",
   "name": "python",
   "nbconvert_exporter": "python",
   "pygments_lexer": "ipython3",
   "version": "3.9.6"
  },
  "toc": {
   "base_numbering": 1,
   "nav_menu": {},
   "number_sections": true,
   "sideBar": true,
   "skip_h1_title": false,
   "title_cell": "Table of Contents",
   "title_sidebar": "Contents",
   "toc_cell": false,
   "toc_position": {},
   "toc_section_display": true,
   "toc_window_display": false
  },
  "varInspector": {
   "cols": {
    "lenName": 16,
    "lenType": 16,
    "lenVar": 40
   },
   "kernels_config": {
    "python": {
     "delete_cmd_postfix": "",
     "delete_cmd_prefix": "del ",
     "library": "var_list.py",
     "varRefreshCmd": "print(var_dic_list())"
    },
    "r": {
     "delete_cmd_postfix": ") ",
     "delete_cmd_prefix": "rm(",
     "library": "var_list.r",
     "varRefreshCmd": "cat(var_dic_list()) "
    }
   },
   "types_to_exclude": [
    "module",
    "function",
    "builtin_function_or_method",
    "instance",
    "_Feature"
   ],
   "window_display": false
  }
 },
 "nbformat": 4,
 "nbformat_minor": 2
}
